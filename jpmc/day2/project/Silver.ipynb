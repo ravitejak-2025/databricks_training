{
 "cells": [
  {
   "cell_type": "code",
   "execution_count": 0,
   "metadata": {
    "application/vnd.databricks.v1+cell": {
     "cellMetadata": {
      "byteLimit": 2048000,
      "rowLimit": 10000
     },
     "inputWidgets": {},
     "nuid": "6b099d47-0dc0-4b3b-b1a9-38cd83327ec6",
     "showTitle": false,
     "tableResultSettingsMap": {},
     "title": ""
    }
   },
   "outputs": [],
   "source": [
    "%python\n",
    "df=spark.read.table(\"dev.naval_bronze.sales\")"
   ]
  },
  {
   "cell_type": "code",
   "execution_count": 0,
   "metadata": {
    "application/vnd.databricks.v1+cell": {
     "cellMetadata": {
      "byteLimit": 2048000,
      "rowLimit": 10000
     },
     "inputWidgets": {},
     "nuid": "25efe678-fa95-48ab-8e83-ac24d56dacf8",
     "showTitle": false,
     "tableResultSettingsMap": {},
     "title": ""
    }
   },
   "outputs": [],
   "source": [
    "%python\n",
    "df_cleaned=df.dropDuplicates().dropna().drop(\"ingestion_date\")"
   ]
  },
  {
   "cell_type": "code",
   "execution_count": 0,
   "metadata": {
    "application/vnd.databricks.v1+cell": {
     "cellMetadata": {
      "byteLimit": 2048000,
      "rowLimit": 10000
     },
     "inputWidgets": {},
     "nuid": "61acaec6-7a4f-402c-9452-dedb650d11a3",
     "showTitle": false,
     "tableResultSettingsMap": {},
     "title": ""
    }
   },
   "outputs": [],
   "source": [
    "%python\n",
    "df_cleaned.write.mode(\"overwrite\").saveAsTable(\"dev.naval_silver.sales_cleaned\")"
   ]
  },
  {
   "cell_type": "code",
   "execution_count": 0,
   "metadata": {
    "application/vnd.databricks.v1+cell": {
     "cellMetadata": {
      "byteLimit": 2048000,
      "rowLimit": 10000
     },
     "inputWidgets": {},
     "nuid": "19f12501-6fe6-4869-bbc6-cde446087004",
     "showTitle": false,
     "tableResultSettingsMap": {},
     "title": ""
    }
   },
   "outputs": [],
   "source": [
    "select * from dev.naval_bronze.products"
   ]
  },
  {
   "cell_type": "code",
   "execution_count": 0,
   "metadata": {
    "application/vnd.databricks.v1+cell": {
     "cellMetadata": {
      "byteLimit": 2048000,
      "rowLimit": 10000
     },
     "inputWidgets": {},
     "nuid": "7f68fd7f-1af9-4d4d-8f7a-777a2a751a84",
     "showTitle": false,
     "tableResultSettingsMap": {},
     "title": ""
    }
   },
   "outputs": [],
   "source": [
    "create or replace table dev.naval_silver.product_scd (product_id int, product_name string, product_category string, product_price double)"
   ]
  },
  {
   "cell_type": "code",
   "execution_count": 0,
   "metadata": {
    "application/vnd.databricks.v1+cell": {
     "cellMetadata": {
      "byteLimit": 2048000,
      "rowLimit": 10000
     },
     "inputWidgets": {},
     "nuid": "72f32e7a-c611-4698-889b-7fd67bd43550",
     "showTitle": false,
     "tableResultSettingsMap": {},
     "title": ""
    }
   },
   "outputs": [],
   "source": [
    "WITH deduplicated_source AS (\n",
    "    SELECT \n",
    "        s.*,\n",
    "        ROW_NUMBER() OVER (PARTITION BY product_id ORDER BY seqNum DESC) as row_num\n",
    "    FROM dev.naval_bronze.products s\n",
    ")\n",
    "MERGE INTO dev.naval_silver.product_scd t\n",
    "USING (SELECT * FROM deduplicated_source WHERE row_num = 1\n",
    ") s\n",
    "ON t.product_id = s.product_id\n",
    "WHEN MATCHED and s.operation='UPDATE' \n",
    "    THEN \n",
    "        UPDATE SET \n",
    "    t.product_name = s.product_name,\n",
    "    t.product_category = s.product_category,\n",
    "    t.product_price = s.product_price\n",
    "WHEN MATCHED AND s.operation='DELETE'\n",
    "THEN \n",
    "DELETE\n",
    "WHEN NOT MATCHED THEN \n",
    "INSERT \n",
    "    (product_id, product_name, product_category, product_price) \n",
    "VALUES \n",
    "    (s.product_id, s.product_name, s.product_category, s.product_price)"
   ]
  }
 ],
 "metadata": {
  "application/vnd.databricks.v1+notebook": {
   "computePreferences": null,
   "dashboards": [],
   "environmentMetadata": {
    "base_environment": "",
    "environment_version": "2"
   },
   "inputWidgetPreferences": null,
   "language": "sql",
   "notebookMetadata": {
    "pythonIndentUnit": 4
   },
   "notebookName": "Silver",
   "widgets": {}
  },
  "language_info": {
   "name": "sql"
  }
 },
 "nbformat": 4,
 "nbformat_minor": 0
}
